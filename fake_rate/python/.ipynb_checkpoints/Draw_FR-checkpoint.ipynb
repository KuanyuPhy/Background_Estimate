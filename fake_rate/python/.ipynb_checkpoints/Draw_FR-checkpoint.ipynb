{
 "cells": [
  {
   "cell_type": "code",
   "execution_count": 1,
   "id": "collect-removal",
   "metadata": {},
   "outputs": [],
   "source": [
    "import uproot\n",
    "import hist\n",
    "import matplotlib.pyplot as plt"
   ]
  },
  {
   "cell_type": "code",
   "execution_count": 15,
   "id": "driving-public",
   "metadata": {},
   "outputs": [
    {
     "ename": "SyntaxError",
     "evalue": "invalid syntax (<ipython-input-15-0c856b2170f9>, line 1)",
     "output_type": "error",
     "traceback": [
      "\u001b[0;36m  File \u001b[0;32m\"<ipython-input-15-0c856b2170f9>\"\u001b[0;36m, line \u001b[0;32m1\u001b[0m\n\u001b[0;31m    pip3 install -U matplotlib\u001b[0m\n\u001b[0m         ^\u001b[0m\n\u001b[0;31mSyntaxError\u001b[0m\u001b[0;31m:\u001b[0m invalid syntax\n"
     ]
    }
   ],
   "source": [
    "pip3 install -U matplotlib"
   ]
  },
  {
   "cell_type": "code",
   "execution_count": 10,
   "id": "mysterious-variety",
   "metadata": {},
   "outputs": [],
   "source": [
    "Topemu = uproot.open(\"/home/kuanyu/Documents/CMS/Background_Estimate/fake_rate/top_emu/HiggsZZ4mu_histograms.root\")"
   ]
  },
  {
   "cell_type": "code",
   "execution_count": 3,
   "id": "cloudy-boards",
   "metadata": {},
   "outputs": [
    {
     "data": {
      "text/plain": [
       "<ReadOnlyFile '/home/kuanyu/root7/root-6.26.04_build/tutorials/hsimple.root' at 0x7f6750a46ee0>"
      ]
     },
     "execution_count": 3,
     "metadata": {},
     "output_type": "execute_result"
    }
   ],
   "source": [
    "Topemu.file"
   ]
  },
  {
   "cell_type": "code",
   "execution_count": 11,
   "id": "ranging-lease",
   "metadata": {},
   "outputs": [
    {
     "data": {
      "text/plain": [
       "{'num': 'TDirectory',\n",
       " 'num/NGMuons': 'TH1D',\n",
       " 'num/NMuons': 'TH1D',\n",
       " 'num/Nelectrons': 'TH1D',\n",
       " 'num/NGoodGMuons': 'TH1D',\n",
       " 'num/NGoodRecMuons': 'TH1D',\n",
       " 'num/NGoodElectron': 'TH1D',\n",
       " 'Z': 'TDirectory',\n",
       " 'Z/all': 'TDirectory',\n",
       " 'Z/all/GMmass': 'TH1D',\n",
       " 'Z/all/GMmass_extended': 'TH1D',\n",
       " 'Z/all/GMmass_extended_600': 'TH1D',\n",
       " 'Z/all/massZto2muon': 'TH1D',\n",
       " 'Z/all/massZto2e': 'TH1D',\n",
       " 'Z/4mu': 'TDirectory',\n",
       " 'Z/4mu/by_pt': 'TDirectory',\n",
       " 'Z/4mu/by_pt/mZ12_4mu': 'TH1D',\n",
       " 'Z/4mu/by_pt/mZ34_4mu': 'TH1D',\n",
       " 'Z/4mu/by_pt/mZ13_4mu': 'TH1D',\n",
       " 'Z/4mu/by_pt/mZ24_4mu': 'TH1D',\n",
       " 'Z/4mu/by_pt/mZ14_4mu': 'TH1D',\n",
       " 'Z/4mu/by_pt/mZ23_4mu': 'TH1D',\n",
       " 'Z/4mu/by_mass': 'TDirectory',\n",
       " 'Z/4mu/by_mass/mZa_4mu': 'TH1D',\n",
       " 'Z/4mu/by_mass/mZb_4mu': 'TH1D',\n",
       " 'Z/4e': 'TDirectory',\n",
       " 'Z/4e/by_pt': 'TDirectory',\n",
       " 'Z/4e/by_pt/mZ12_4e': 'TH1D',\n",
       " 'Z/4e/by_pt/mZ34_4e': 'TH1D',\n",
       " 'Z/4e/by_pt/mZ13_4e': 'TH1D',\n",
       " 'Z/4e/by_pt/mZ24_4e': 'TH1D',\n",
       " 'Z/4e/by_pt/mZ14_4e': 'TH1D',\n",
       " 'Z/4e/by_pt/mZ23_4e': 'TH1D',\n",
       " 'Z/4e/by_mass': 'TDirectory',\n",
       " 'Z/4e/by_mass/mZa_4e': 'TH1D',\n",
       " 'Z/4e/by_mass/mZb_4e': 'TH1D',\n",
       " 'Z/2mu2e': 'TDirectory',\n",
       " 'Z/2mu2e/massZmu_2mu2e': 'TH1D',\n",
       " 'Z/2mu2e/massZe_2mu2e': 'TH1D',\n",
       " 'H': 'TDirectory',\n",
       " 'H/4mu': 'TDirectory',\n",
       " 'H/4mu/mass4mu_7TeV': 'TH1D',\n",
       " 'H/4mu/mass4mu_8TeV': 'TH1D',\n",
       " 'H/4mu/mass4mu_8TeV_low': 'TH1D',\n",
       " 'H/4mu/mass4mu_full': 'TH1D',\n",
       " 'H/4e': 'TDirectory',\n",
       " 'H/4e/mass4e_7TeV': 'TH1D',\n",
       " 'H/4e/mass4e_8TeV': 'TH1D',\n",
       " 'H/4e/mass4e_8TeV_low': 'TH1D',\n",
       " 'H/4e/mass4e_full': 'TH1D',\n",
       " 'H/2mu2e': 'TDirectory',\n",
       " 'H/2mu2e/mZa_2mu2e': 'TH1D',\n",
       " 'H/2mu2e/mZb_2mu2e': 'TH1D',\n",
       " 'H/2mu2e/mass2mu2e_7TeV': 'TH1D',\n",
       " 'H/2mu2e/mass2mu2e_8TeV': 'TH1D',\n",
       " 'H/2mu2e/mass2mu2e_8TeV_low': 'TH1D',\n",
       " 'H/2mu2e/mass2mu2e_full': 'TH1D',\n",
       " 'muon': 'TDirectory',\n",
       " 'muon/GM_momentum': 'TH1D',\n",
       " 'muon/b4_GM_pT': 'TH1D',\n",
       " 'muon/b4_GM_eta': 'TH1D',\n",
       " 'muon/GM_phi': 'TH1D',\n",
       " 'muon/GM_chi2': 'TH1D',\n",
       " 'muon/GM_ndof': 'TH1D',\n",
       " 'muon/GM_normchi2': 'TH1D',\n",
       " 'muon/GM_validhits': 'TH1D',\n",
       " 'muon/GM_pixelhits': 'TH1D',\n",
       " 'muon/after_GM_pT': 'TH1D',\n",
       " 'muon/after_GM_eta': 'TH1D',\n",
       " 'muon/RM_momentum': 'TH1D',\n",
       " 'muon/b4_RM_pt': 'TH1D',\n",
       " 'muon/b4_RM_eta': 'TH1D',\n",
       " 'muon/RM_phi': 'TH1D',\n",
       " 'muon/RM_chi2': 'TH1D',\n",
       " 'muon/RM_Ndof': 'TH1D',\n",
       " 'muon/RM_NormChi2': 'TH1D',\n",
       " 'muon/RM_goodMuonChamberHit': 'TH1D',\n",
       " 'muon/RM_dxy': 'TH1D',\n",
       " 'muon/RM_RelPFIso': 'TH1D',\n",
       " 'muon/after_RM_RelPFIso': 'TH1D',\n",
       " 'muon/RM_validhits': 'TH1D',\n",
       " 'muon/RM_pixelhits': 'TH1D',\n",
       " 'muon/after_RM_pt_Z2mu': 'TH1D',\n",
       " 'muon/after_RM_eta_Z2mu': 'TH1D',\n",
       " 'muon/after_RM_pt': 'TH1D',\n",
       " 'muon/after_RM_eta': 'TH1D',\n",
       " 'muon/after_relPFIso_2mu': 'TH1D',\n",
       " 'muon/after_relPFIso_2e': 'TH1D',\n",
       " 'muon/after_pt_2mu2e': 'TH1D',\n",
       " 'muon/after_eta_2mu2e': 'TH1D',\n",
       " 'electron': 'TDirectory',\n",
       " 'electron/e_momentum': 'TH1D',\n",
       " 'electron/e_eT': 'TH1D',\n",
       " 'electron/b4_e_pT': 'TH1D',\n",
       " 'electron/b4_e_eta': 'TH1D',\n",
       " 'electron/e_phi': 'TH1D',\n",
       " 'electron/e_SC_eta': 'TH1D',\n",
       " 'electron/e_SC_rawE': 'TH1D',\n",
       " 'electron/e_RelPFIso': 'TH1D',\n",
       " 'electron/after_e_RelPFIso': 'TH1D',\n",
       " 'electron/e_RelPFIso_pT': 'TH2D',\n",
       " 'electron/e_dxy': 'TH1D',\n",
       " 'electron/after_e_pT_Zto2e': 'TH1D',\n",
       " 'electron/after_e_eta_Zto2e': 'TH1D',\n",
       " 'electron/after_e_pT': 'TH1D',\n",
       " 'electron/after_e_eta': 'TH1D',\n",
       " 'electron/after_e_pT_2mu2e': 'TH1D',\n",
       " 'electron/after_e_eta_2mu2e': 'TH1D',\n",
       " 'electron/SIP3d_mu': 'TH1D',\n",
       " 'electron/SIP3d_e': 'TH1D',\n",
       " 'electron/e_misshit': 'TH1D'}"
      ]
     },
     "execution_count": 11,
     "metadata": {},
     "output_type": "execute_result"
    }
   ],
   "source": [
    "Topemu.classnames()"
   ]
  },
  {
   "cell_type": "code",
   "execution_count": 5,
   "id": "after-barrel",
   "metadata": {},
   "outputs": [
    {
     "data": {
      "image/png": "[encoded data removed]",
      "text/plain": [
       "<Figure size 432x288 with 1 Axes>"
      ]
     },
     "metadata": {
      "needs_background": "light"
     },
     "output_type": "display_data"
    }
   ],
   "source": [
    "fig, ax = plt.subplots(1)"
   ]
  },
  {
   "cell_type": "code",
   "execution_count": 13,
   "id": "executed-listening",
   "metadata": {},
   "outputs": [
    {
     "ename": "AttributeError",
     "evalue": "'AxesSubplot' object has no attribute 'stairs'",
     "output_type": "error",
     "traceback": [
      "\u001b[0;31m---------------------------------------------------------------------------\u001b[0m",
      "\u001b[0;31mAttributeError\u001b[0m                            Traceback (most recent call last)",
      "\u001b[0;32m<ipython-input-13-24a8102ddaff>\u001b[0m in \u001b[0;36m<module>\u001b[0;34m\u001b[0m\n\u001b[0;32m----> 1\u001b[0;31m \u001b[0mTopemu\u001b[0m\u001b[0;34m[\u001b[0m\u001b[0;34m\"Z/all/massZto2muon\"\u001b[0m\u001b[0;34m]\u001b[0m\u001b[0;34m.\u001b[0m\u001b[0mto_hist\u001b[0m\u001b[0;34m(\u001b[0m\u001b[0;34m)\u001b[0m\u001b[0;34m.\u001b[0m\u001b[0mplot\u001b[0m\u001b[0;34m(\u001b[0m\u001b[0max\u001b[0m\u001b[0;34m=\u001b[0m\u001b[0max\u001b[0m\u001b[0;34m)\u001b[0m\u001b[0;34m\u001b[0m\u001b[0;34m\u001b[0m\u001b[0m\n\u001b[0m",
      "\u001b[0;32m~/.local/lib/python3.8/site-packages/hist/basehist.py\u001b[0m in \u001b[0;36mplot\u001b[0;34m(self, overlay, *args, **kwargs)\u001b[0m\n\u001b[1;32m    398\u001b[0m         \u001b[0m_project\u001b[0m \u001b[0;34m=\u001b[0m \u001b[0m_has_categorical\u001b[0m \u001b[0;32mor\u001b[0m \u001b[0moverlay\u001b[0m \u001b[0;32mis\u001b[0m \u001b[0;32mnot\u001b[0m \u001b[0;32mNone\u001b[0m\u001b[0;34m\u001b[0m\u001b[0;34m\u001b[0m\u001b[0m\n\u001b[1;32m    399\u001b[0m         \u001b[0;32mif\u001b[0m \u001b[0mself\u001b[0m\u001b[0;34m.\u001b[0m\u001b[0mndim\u001b[0m \u001b[0;34m==\u001b[0m \u001b[0;36m1\u001b[0m \u001b[0;32mor\u001b[0m \u001b[0;34m(\u001b[0m\u001b[0mself\u001b[0m\u001b[0;34m.\u001b[0m\u001b[0mndim\u001b[0m \u001b[0;34m==\u001b[0m \u001b[0;36m2\u001b[0m \u001b[0;32mand\u001b[0m \u001b[0m_project\u001b[0m\u001b[0;34m)\u001b[0m\u001b[0;34m:\u001b[0m\u001b[0;34m\u001b[0m\u001b[0;34m\u001b[0m\u001b[0m\n\u001b[0;32m--> 400\u001b[0;31m             \u001b[0;32mreturn\u001b[0m \u001b[0mself\u001b[0m\u001b[0;34m.\u001b[0m\u001b[0mplot1d\u001b[0m\u001b[0;34m(\u001b[0m\u001b[0;34m*\u001b[0m\u001b[0margs\u001b[0m\u001b[0;34m,\u001b[0m \u001b[0moverlay\u001b[0m\u001b[0;34m=\u001b[0m\u001b[0moverlay\u001b[0m\u001b[0;34m,\u001b[0m \u001b[0;34m**\u001b[0m\u001b[0mkwargs\u001b[0m\u001b[0;34m)\u001b[0m\u001b[0;34m\u001b[0m\u001b[0;34m\u001b[0m\u001b[0m\n\u001b[0m\u001b[1;32m    401\u001b[0m         \u001b[0;32melif\u001b[0m \u001b[0mself\u001b[0m\u001b[0;34m.\u001b[0m\u001b[0mndim\u001b[0m \u001b[0;34m==\u001b[0m \u001b[0;36m2\u001b[0m\u001b[0;34m:\u001b[0m\u001b[0;34m\u001b[0m\u001b[0;34m\u001b[0m\u001b[0m\n\u001b[1;32m    402\u001b[0m             \u001b[0;32mreturn\u001b[0m \u001b[0mself\u001b[0m\u001b[0;34m.\u001b[0m\u001b[0mplot2d\u001b[0m\u001b[0;34m(\u001b[0m\u001b[0;34m*\u001b[0m\u001b[0margs\u001b[0m\u001b[0;34m,\u001b[0m \u001b[0;34m**\u001b[0m\u001b[0mkwargs\u001b[0m\u001b[0;34m)\u001b[0m\u001b[0;34m\u001b[0m\u001b[0;34m\u001b[0m\u001b[0m\n",
      "\u001b[0;32m~/.local/lib/python3.8/site-packages/hist/basehist.py\u001b[0m in \u001b[0;36mplot1d\u001b[0;34m(self, ax, overlay, **kwargs)\u001b[0m\n\u001b[1;32m    418\u001b[0m \u001b[0;34m\u001b[0m\u001b[0m\n\u001b[1;32m    419\u001b[0m         \u001b[0;32mif\u001b[0m \u001b[0mself\u001b[0m\u001b[0;34m.\u001b[0m\u001b[0mndim\u001b[0m \u001b[0;34m==\u001b[0m \u001b[0;36m1\u001b[0m\u001b[0;34m:\u001b[0m\u001b[0;34m\u001b[0m\u001b[0;34m\u001b[0m\u001b[0m\n\u001b[0;32m--> 420\u001b[0;31m             \u001b[0;32mreturn\u001b[0m \u001b[0mhist\u001b[0m\u001b[0;34m.\u001b[0m\u001b[0mplot\u001b[0m\u001b[0;34m.\u001b[0m\u001b[0mhistplot\u001b[0m\u001b[0;34m(\u001b[0m\u001b[0mself\u001b[0m\u001b[0;34m,\u001b[0m \u001b[0max\u001b[0m\u001b[0;34m=\u001b[0m\u001b[0max\u001b[0m\u001b[0;34m,\u001b[0m \u001b[0;34m**\u001b[0m\u001b[0m_proc_kw_for_lw\u001b[0m\u001b[0;34m(\u001b[0m\u001b[0mkwargs\u001b[0m\u001b[0;34m)\u001b[0m\u001b[0;34m)\u001b[0m\u001b[0;34m\u001b[0m\u001b[0;34m\u001b[0m\u001b[0m\n\u001b[0m\u001b[1;32m    421\u001b[0m         \u001b[0;32mif\u001b[0m \u001b[0moverlay\u001b[0m \u001b[0;32mis\u001b[0m \u001b[0;32mNone\u001b[0m\u001b[0;34m:\u001b[0m\u001b[0;34m\u001b[0m\u001b[0;34m\u001b[0m\u001b[0m\n\u001b[1;32m    422\u001b[0m             \u001b[0;34m(\u001b[0m\u001b[0moverlay\u001b[0m\u001b[0;34m,\u001b[0m\u001b[0;34m)\u001b[0m \u001b[0;34m=\u001b[0m \u001b[0;34m(\u001b[0m\u001b[0mi\u001b[0m \u001b[0;32mfor\u001b[0m \u001b[0mi\u001b[0m\u001b[0;34m,\u001b[0m \u001b[0max\u001b[0m \u001b[0;32min\u001b[0m \u001b[0menumerate\u001b[0m\u001b[0;34m(\u001b[0m\u001b[0mself\u001b[0m\u001b[0;34m.\u001b[0m\u001b[0maxes\u001b[0m\u001b[0;34m)\u001b[0m \u001b[0;32mif\u001b[0m \u001b[0max\u001b[0m\u001b[0;34m.\u001b[0m\u001b[0mtraits\u001b[0m\u001b[0;34m.\u001b[0m\u001b[0mdiscrete\u001b[0m\u001b[0;34m)\u001b[0m\u001b[0;34m\u001b[0m\u001b[0;34m\u001b[0m\u001b[0m\n",
      "\u001b[0;32m~/.local/lib/python3.8/site-packages/mplhep/plot.py\u001b[0m in \u001b[0;36mhistplot\u001b[0;34m(H, bins, yerr, w2, w2method, stack, density, binwnorm, histtype, xerr, label, edges, binticks, ax, **kwargs)\u001b[0m\n\u001b[1;32m    336\u001b[0m             \u001b[0m_kwargs\u001b[0m \u001b[0;34m=\u001b[0m \u001b[0msoft_update_kwargs\u001b[0m\u001b[0;34m(\u001b[0m\u001b[0m_kwargs\u001b[0m\u001b[0;34m,\u001b[0m \u001b[0;34m{\u001b[0m\u001b[0;34m\"linewidth\"\u001b[0m\u001b[0;34m:\u001b[0m \u001b[0;36m1.5\u001b[0m\u001b[0;34m}\u001b[0m\u001b[0;34m)\u001b[0m\u001b[0;34m\u001b[0m\u001b[0;34m\u001b[0m\u001b[0m\n\u001b[1;32m    337\u001b[0m \u001b[0;34m\u001b[0m\u001b[0m\n\u001b[0;32m--> 338\u001b[0;31m             _s = ax.stairs(\n\u001b[0m\u001b[1;32m    339\u001b[0m                 \u001b[0mh\u001b[0m\u001b[0;34m[\u001b[0m\u001b[0mi\u001b[0m\u001b[0;34m]\u001b[0m\u001b[0;34m,\u001b[0m\u001b[0;34m\u001b[0m\u001b[0;34m\u001b[0m\u001b[0m\n\u001b[1;32m    340\u001b[0m                 \u001b[0mfinal_bins\u001b[0m\u001b[0;34m,\u001b[0m\u001b[0;34m\u001b[0m\u001b[0;34m\u001b[0m\u001b[0m\n",
      "\u001b[0;31mAttributeError\u001b[0m: 'AxesSubplot' object has no attribute 'stairs'"
     ]
    }
   ],
   "source": [
    "Topemu[\"Z/all/massZto2muon\"].to_hist().plot(ax=ax)"
   ]
  },
  {
   "cell_type": "code",
   "execution_count": null,
   "id": "proof-astronomy",
   "metadata": {},
   "outputs": [],
   "source": []
  }
 ],
 "metadata": {
  "kernelspec": {
   "display_name": "Python 3",
   "language": "python",
   "name": "python3"
  },
  "language_info": {
   "codemirror_mode": {
    "name": "ipython",
    "version": 3
   },
   "file_extension": ".py",
   "mimetype": "text/x-python",
   "name": "python",
   "nbconvert_exporter": "python",
   "pygments_lexer": "ipython3",
   "version": "3.8.10"
  }
 },
 "nbformat": 4,
 "nbformat_minor": 5
}
